{
 "cells": [
  {
   "cell_type": "markdown",
   "metadata": {},
   "source": [
    "# Weekly assignment 5\n",
    "\n",
    "In this exercise, I am using the [data set on student alcohol consumption](https://www.kaggle.com/uciml/student-alcohol-consumption) to predict predict the variable 'in a romantic relationship'. I selected the data set because I find it interesting to see if such variables can be used to predict the relationship status. "
   ]
  },
  {
   "cell_type": "code",
   "execution_count": 1,
   "metadata": {},
   "outputs": [],
   "source": [
    "import sklearn as sk\n",
    "import pandas as pd\n",
    "import seaborn as sns\n",
    "import matplotlib.pyplot as plt\n",
    "from sklearn.ensemble import RandomForestClassifier\n",
    "from sklearn.model_selection import train_test_split\n",
    "from sklearn.metrics import confusion_matrix"
   ]
  },
  {
   "cell_type": "markdown",
   "metadata": {},
   "source": [
    "## Importing the data ##\n",
    "\n",
    "Let's have a look at the data first."
   ]
  },
  {
   "cell_type": "code",
   "execution_count": 2,
   "metadata": {},
   "outputs": [
    {
     "data": {
      "text/html": [
       "<div>\n",
       "<style scoped>\n",
       "    .dataframe tbody tr th:only-of-type {\n",
       "        vertical-align: middle;\n",
       "    }\n",
       "\n",
       "    .dataframe tbody tr th {\n",
       "        vertical-align: top;\n",
       "    }\n",
       "\n",
       "    .dataframe thead th {\n",
       "        text-align: right;\n",
       "    }\n",
       "</style>\n",
       "<table border=\"1\" class=\"dataframe\">\n",
       "  <thead>\n",
       "    <tr style=\"text-align: right;\">\n",
       "      <th></th>\n",
       "      <th>school</th>\n",
       "      <th>sex</th>\n",
       "      <th>age</th>\n",
       "      <th>address</th>\n",
       "      <th>famsize</th>\n",
       "      <th>Pstatus</th>\n",
       "      <th>Medu</th>\n",
       "      <th>Fedu</th>\n",
       "      <th>Mjob</th>\n",
       "      <th>Fjob</th>\n",
       "      <th>...</th>\n",
       "      <th>famrel</th>\n",
       "      <th>freetime</th>\n",
       "      <th>goout</th>\n",
       "      <th>Dalc</th>\n",
       "      <th>Walc</th>\n",
       "      <th>health</th>\n",
       "      <th>absences</th>\n",
       "      <th>G1</th>\n",
       "      <th>G2</th>\n",
       "      <th>G3</th>\n",
       "    </tr>\n",
       "  </thead>\n",
       "  <tbody>\n",
       "    <tr>\n",
       "      <th>0</th>\n",
       "      <td>GP</td>\n",
       "      <td>F</td>\n",
       "      <td>18</td>\n",
       "      <td>U</td>\n",
       "      <td>GT3</td>\n",
       "      <td>A</td>\n",
       "      <td>4</td>\n",
       "      <td>4</td>\n",
       "      <td>at_home</td>\n",
       "      <td>teacher</td>\n",
       "      <td>...</td>\n",
       "      <td>4</td>\n",
       "      <td>3</td>\n",
       "      <td>4</td>\n",
       "      <td>1</td>\n",
       "      <td>1</td>\n",
       "      <td>3</td>\n",
       "      <td>4</td>\n",
       "      <td>0</td>\n",
       "      <td>11</td>\n",
       "      <td>11</td>\n",
       "    </tr>\n",
       "    <tr>\n",
       "      <th>1</th>\n",
       "      <td>GP</td>\n",
       "      <td>F</td>\n",
       "      <td>17</td>\n",
       "      <td>U</td>\n",
       "      <td>GT3</td>\n",
       "      <td>T</td>\n",
       "      <td>1</td>\n",
       "      <td>1</td>\n",
       "      <td>at_home</td>\n",
       "      <td>other</td>\n",
       "      <td>...</td>\n",
       "      <td>5</td>\n",
       "      <td>3</td>\n",
       "      <td>3</td>\n",
       "      <td>1</td>\n",
       "      <td>1</td>\n",
       "      <td>3</td>\n",
       "      <td>2</td>\n",
       "      <td>9</td>\n",
       "      <td>11</td>\n",
       "      <td>11</td>\n",
       "    </tr>\n",
       "    <tr>\n",
       "      <th>2</th>\n",
       "      <td>GP</td>\n",
       "      <td>F</td>\n",
       "      <td>15</td>\n",
       "      <td>U</td>\n",
       "      <td>LE3</td>\n",
       "      <td>T</td>\n",
       "      <td>1</td>\n",
       "      <td>1</td>\n",
       "      <td>at_home</td>\n",
       "      <td>other</td>\n",
       "      <td>...</td>\n",
       "      <td>4</td>\n",
       "      <td>3</td>\n",
       "      <td>2</td>\n",
       "      <td>2</td>\n",
       "      <td>3</td>\n",
       "      <td>3</td>\n",
       "      <td>6</td>\n",
       "      <td>12</td>\n",
       "      <td>13</td>\n",
       "      <td>12</td>\n",
       "    </tr>\n",
       "    <tr>\n",
       "      <th>3</th>\n",
       "      <td>GP</td>\n",
       "      <td>F</td>\n",
       "      <td>15</td>\n",
       "      <td>U</td>\n",
       "      <td>GT3</td>\n",
       "      <td>T</td>\n",
       "      <td>4</td>\n",
       "      <td>2</td>\n",
       "      <td>health</td>\n",
       "      <td>services</td>\n",
       "      <td>...</td>\n",
       "      <td>3</td>\n",
       "      <td>2</td>\n",
       "      <td>2</td>\n",
       "      <td>1</td>\n",
       "      <td>1</td>\n",
       "      <td>5</td>\n",
       "      <td>0</td>\n",
       "      <td>14</td>\n",
       "      <td>14</td>\n",
       "      <td>14</td>\n",
       "    </tr>\n",
       "    <tr>\n",
       "      <th>4</th>\n",
       "      <td>GP</td>\n",
       "      <td>F</td>\n",
       "      <td>16</td>\n",
       "      <td>U</td>\n",
       "      <td>GT3</td>\n",
       "      <td>T</td>\n",
       "      <td>3</td>\n",
       "      <td>3</td>\n",
       "      <td>other</td>\n",
       "      <td>other</td>\n",
       "      <td>...</td>\n",
       "      <td>4</td>\n",
       "      <td>3</td>\n",
       "      <td>2</td>\n",
       "      <td>1</td>\n",
       "      <td>2</td>\n",
       "      <td>5</td>\n",
       "      <td>0</td>\n",
       "      <td>11</td>\n",
       "      <td>13</td>\n",
       "      <td>13</td>\n",
       "    </tr>\n",
       "  </tbody>\n",
       "</table>\n",
       "<p>5 rows × 33 columns</p>\n",
       "</div>"
      ],
      "text/plain": [
       "  school sex  age address famsize Pstatus  Medu  Fedu     Mjob      Fjob  ...  \\\n",
       "0     GP   F   18       U     GT3       A     4     4  at_home   teacher  ...   \n",
       "1     GP   F   17       U     GT3       T     1     1  at_home     other  ...   \n",
       "2     GP   F   15       U     LE3       T     1     1  at_home     other  ...   \n",
       "3     GP   F   15       U     GT3       T     4     2   health  services  ...   \n",
       "4     GP   F   16       U     GT3       T     3     3    other     other  ...   \n",
       "\n",
       "  famrel freetime  goout  Dalc  Walc health absences  G1  G2  G3  \n",
       "0      4        3      4     1     1      3        4   0  11  11  \n",
       "1      5        3      3     1     1      3        2   9  11  11  \n",
       "2      4        3      2     2     3      3        6  12  13  12  \n",
       "3      3        2      2     1     1      5        0  14  14  14  \n",
       "4      4        3      2     1     2      5        0  11  13  13  \n",
       "\n",
       "[5 rows x 33 columns]"
      ]
     },
     "execution_count": 2,
     "metadata": {},
     "output_type": "execute_result"
    }
   ],
   "source": [
    "df_all = pd.read_csv('student-por.csv')\n",
    "df_all.head()"
   ]
  },
  {
   "cell_type": "markdown",
   "metadata": {},
   "source": [
    "First, I make a sub set of the data frame including variables that I consider interesting to investigate. The data consists of a number of variables (33 in total) of which I chose 7 to predict if the respondent is in a romantic relationship."
   ]
  },
  {
   "cell_type": "code",
   "execution_count": 3,
   "metadata": {},
   "outputs": [
    {
     "data": {
      "text/html": [
       "<div>\n",
       "<style scoped>\n",
       "    .dataframe tbody tr th:only-of-type {\n",
       "        vertical-align: middle;\n",
       "    }\n",
       "\n",
       "    .dataframe tbody tr th {\n",
       "        vertical-align: top;\n",
       "    }\n",
       "\n",
       "    .dataframe thead th {\n",
       "        text-align: right;\n",
       "    }\n",
       "</style>\n",
       "<table border=\"1\" class=\"dataframe\">\n",
       "  <thead>\n",
       "    <tr style=\"text-align: right;\">\n",
       "      <th></th>\n",
       "      <th>romantic</th>\n",
       "      <th>age</th>\n",
       "      <th>Pstatus</th>\n",
       "      <th>studytime</th>\n",
       "      <th>activities</th>\n",
       "      <th>famrel</th>\n",
       "      <th>goout</th>\n",
       "      <th>Walc</th>\n",
       "    </tr>\n",
       "  </thead>\n",
       "  <tbody>\n",
       "    <tr>\n",
       "      <th>0</th>\n",
       "      <td>no</td>\n",
       "      <td>18</td>\n",
       "      <td>A</td>\n",
       "      <td>2</td>\n",
       "      <td>no</td>\n",
       "      <td>4</td>\n",
       "      <td>4</td>\n",
       "      <td>1</td>\n",
       "    </tr>\n",
       "    <tr>\n",
       "      <th>1</th>\n",
       "      <td>no</td>\n",
       "      <td>17</td>\n",
       "      <td>T</td>\n",
       "      <td>2</td>\n",
       "      <td>no</td>\n",
       "      <td>5</td>\n",
       "      <td>3</td>\n",
       "      <td>1</td>\n",
       "    </tr>\n",
       "    <tr>\n",
       "      <th>2</th>\n",
       "      <td>no</td>\n",
       "      <td>15</td>\n",
       "      <td>T</td>\n",
       "      <td>2</td>\n",
       "      <td>no</td>\n",
       "      <td>4</td>\n",
       "      <td>2</td>\n",
       "      <td>3</td>\n",
       "    </tr>\n",
       "    <tr>\n",
       "      <th>3</th>\n",
       "      <td>yes</td>\n",
       "      <td>15</td>\n",
       "      <td>T</td>\n",
       "      <td>3</td>\n",
       "      <td>yes</td>\n",
       "      <td>3</td>\n",
       "      <td>2</td>\n",
       "      <td>1</td>\n",
       "    </tr>\n",
       "    <tr>\n",
       "      <th>4</th>\n",
       "      <td>no</td>\n",
       "      <td>16</td>\n",
       "      <td>T</td>\n",
       "      <td>2</td>\n",
       "      <td>no</td>\n",
       "      <td>4</td>\n",
       "      <td>2</td>\n",
       "      <td>2</td>\n",
       "    </tr>\n",
       "  </tbody>\n",
       "</table>\n",
       "</div>"
      ],
      "text/plain": [
       "  romantic  age Pstatus  studytime activities  famrel  goout  Walc\n",
       "0       no   18       A          2         no       4      4     1\n",
       "1       no   17       T          2         no       5      3     1\n",
       "2       no   15       T          2         no       4      2     3\n",
       "3      yes   15       T          3        yes       3      2     1\n",
       "4       no   16       T          2         no       4      2     2"
      ]
     },
     "execution_count": 3,
     "metadata": {},
     "output_type": "execute_result"
    }
   ],
   "source": [
    "df = df_all[['romantic','age', 'Pstatus', 'studytime', 'activities', 'famrel', 'goout', 'Walc']]\n",
    "df.head()"
   ]
  },
  {
   "cell_type": "markdown",
   "metadata": {},
   "source": [
    "As we see the parental status and actitivites are not numeric and hence need to be turned into dummy variables. "
   ]
  },
  {
   "cell_type": "code",
   "execution_count": 4,
   "metadata": {},
   "outputs": [
    {
     "data": {
      "text/html": [
       "<div>\n",
       "<style scoped>\n",
       "    .dataframe tbody tr th:only-of-type {\n",
       "        vertical-align: middle;\n",
       "    }\n",
       "\n",
       "    .dataframe tbody tr th {\n",
       "        vertical-align: top;\n",
       "    }\n",
       "\n",
       "    .dataframe thead th {\n",
       "        text-align: right;\n",
       "    }\n",
       "</style>\n",
       "<table border=\"1\" class=\"dataframe\">\n",
       "  <thead>\n",
       "    <tr style=\"text-align: right;\">\n",
       "      <th></th>\n",
       "      <th>romantic</th>\n",
       "      <th>age</th>\n",
       "      <th>Pstatus</th>\n",
       "      <th>studytime</th>\n",
       "      <th>activities</th>\n",
       "      <th>famrel</th>\n",
       "      <th>goout</th>\n",
       "      <th>Walc</th>\n",
       "      <th>A</th>\n",
       "      <th>T</th>\n",
       "    </tr>\n",
       "  </thead>\n",
       "  <tbody>\n",
       "    <tr>\n",
       "      <th>0</th>\n",
       "      <td>no</td>\n",
       "      <td>18</td>\n",
       "      <td>A</td>\n",
       "      <td>2</td>\n",
       "      <td>no</td>\n",
       "      <td>4</td>\n",
       "      <td>4</td>\n",
       "      <td>1</td>\n",
       "      <td>1</td>\n",
       "      <td>0</td>\n",
       "    </tr>\n",
       "  </tbody>\n",
       "</table>\n",
       "</div>"
      ],
      "text/plain": [
       "  romantic  age Pstatus  studytime activities  famrel  goout  Walc  A  T\n",
       "0       no   18       A          2         no       4      4     1  1  0"
      ]
     },
     "execution_count": 4,
     "metadata": {},
     "output_type": "execute_result"
    }
   ],
   "source": [
    "dummies = pd.get_dummies(df['Pstatus'])\n",
    "dummies.head(1)\n",
    "df = pd.concat([df, dummies], axis=1) #the axis=1 means: add it to the columns (axis=0 is rows)\n",
    "df.head(1)"
   ]
  },
  {
   "cell_type": "code",
   "execution_count": 5,
   "metadata": {},
   "outputs": [
    {
     "data": {
      "text/html": [
       "<div>\n",
       "<style scoped>\n",
       "    .dataframe tbody tr th:only-of-type {\n",
       "        vertical-align: middle;\n",
       "    }\n",
       "\n",
       "    .dataframe tbody tr th {\n",
       "        vertical-align: top;\n",
       "    }\n",
       "\n",
       "    .dataframe thead th {\n",
       "        text-align: right;\n",
       "    }\n",
       "</style>\n",
       "<table border=\"1\" class=\"dataframe\">\n",
       "  <thead>\n",
       "    <tr style=\"text-align: right;\">\n",
       "      <th></th>\n",
       "      <th>no</th>\n",
       "      <th>yes</th>\n",
       "    </tr>\n",
       "  </thead>\n",
       "  <tbody>\n",
       "    <tr>\n",
       "      <th>0</th>\n",
       "      <td>1</td>\n",
       "      <td>0</td>\n",
       "    </tr>\n",
       "  </tbody>\n",
       "</table>\n",
       "</div>"
      ],
      "text/plain": [
       "   no  yes\n",
       "0   1    0"
      ]
     },
     "execution_count": 5,
     "metadata": {},
     "output_type": "execute_result"
    }
   ],
   "source": [
    "dummies = pd.get_dummies(df['activities'])\n",
    "dummies.head(1)"
   ]
  },
  {
   "cell_type": "code",
   "execution_count": 6,
   "metadata": {},
   "outputs": [
    {
     "data": {
      "text/html": [
       "<div>\n",
       "<style scoped>\n",
       "    .dataframe tbody tr th:only-of-type {\n",
       "        vertical-align: middle;\n",
       "    }\n",
       "\n",
       "    .dataframe tbody tr th {\n",
       "        vertical-align: top;\n",
       "    }\n",
       "\n",
       "    .dataframe thead th {\n",
       "        text-align: right;\n",
       "    }\n",
       "</style>\n",
       "<table border=\"1\" class=\"dataframe\">\n",
       "  <thead>\n",
       "    <tr style=\"text-align: right;\">\n",
       "      <th></th>\n",
       "      <th>romantic</th>\n",
       "      <th>age</th>\n",
       "      <th>Pstatus</th>\n",
       "      <th>studytime</th>\n",
       "      <th>activities</th>\n",
       "      <th>famrel</th>\n",
       "      <th>goout</th>\n",
       "      <th>Walc</th>\n",
       "      <th>A</th>\n",
       "      <th>T</th>\n",
       "      <th>no</th>\n",
       "      <th>yes</th>\n",
       "    </tr>\n",
       "  </thead>\n",
       "  <tbody>\n",
       "    <tr>\n",
       "      <th>0</th>\n",
       "      <td>no</td>\n",
       "      <td>18</td>\n",
       "      <td>A</td>\n",
       "      <td>2</td>\n",
       "      <td>no</td>\n",
       "      <td>4</td>\n",
       "      <td>4</td>\n",
       "      <td>1</td>\n",
       "      <td>1</td>\n",
       "      <td>0</td>\n",
       "      <td>1</td>\n",
       "      <td>0</td>\n",
       "    </tr>\n",
       "  </tbody>\n",
       "</table>\n",
       "</div>"
      ],
      "text/plain": [
       "  romantic  age Pstatus  studytime activities  famrel  goout  Walc  A  T  no  \\\n",
       "0       no   18       A          2         no       4      4     1  1  0   1   \n",
       "\n",
       "   yes  \n",
       "0    0  "
      ]
     },
     "execution_count": 6,
     "metadata": {},
     "output_type": "execute_result"
    }
   ],
   "source": [
    "df = pd.concat([df, dummies], axis=1) #the axis=1 means: add it to the columns (axis=0 is rows)\n",
    "df.head(1)"
   ]
  },
  {
   "cell_type": "markdown",
   "metadata": {},
   "source": [
    "I choose the variables sex, age, parent's cohabitation status, studytime, activities, quality of family relationship, going out and weekly alcohol consumption as X variables. When going through the list I found these variables had a chance of influncing the relationship status. This goes from the hypothesis that if a person is older, he/she might be more likely to have a relationship. I further want to see if the parental cohabitiation and family relationship can have a positive relationship with the 'romantic' variable. Lastly, I expect going out and Weekend alcohol consumption to have a negativive relationship with the predicted variable. \n",
    "(The T stands for the dummy variable parents are together and yes for doing extra curricular activities.)\n",
    "\n",
    "\n",
    "I am predicting *romantic*: if there is a romantic relationship (1) or not (0). \n",
    "\n",
    "Let's get our *X* and *y* and split the data.\n",
    "\n",
    "\n"
   ]
  },
  {
   "cell_type": "code",
   "execution_count": 15,
   "metadata": {},
   "outputs": [],
   "source": [
    "X = df[['age', 'T', 'studytime', 'yes', 'famrel', 'goout', 'Walc']] #do I need double brackets?\n",
    "y = df['romantic']\n",
    "X_train, X_test, y_train, y_test = train_test_split(X, y, test_size=0.3, random_state=1)"
   ]
  },
  {
   "cell_type": "markdown",
   "metadata": {},
   "source": [
    "## Training the algorithm\n",
    "Because I am not very familiar with Random Forest yet, I first wanted to try out the K-nearest neighbour algorithms and see what solution I get. "
   ]
  },
  {
   "cell_type": "markdown",
   "metadata": {},
   "source": [
    "## K-nn"
   ]
  },
  {
   "cell_type": "code",
   "execution_count": 19,
   "metadata": {},
   "outputs": [
    {
     "data": {
      "text/plain": [
       "0.6153846153846154"
      ]
     },
     "execution_count": 19,
     "metadata": {},
     "output_type": "execute_result"
    }
   ],
   "source": [
    "from sklearn.neighbors import KNeighborsClassifier #the object class we need\n",
    "\n",
    "knn = KNeighborsClassifier(n_neighbors=5) #create a KNN-classifier with 5 neighbors (default)\n",
    "knn = knn.fit(X_train, y_train) #this fits the k-nearest neigbor model with the train data\n",
    "knn.score(X_test, y_test) #calculate the fit on the test data"
   ]
  },
  {
   "cell_type": "markdown",
   "metadata": {},
   "source": [
    "61% of relationships are accurately predicted. I assume that is not a fantastic result but at any case better than 50%. "
   ]
  },
  {
   "cell_type": "code",
   "execution_count": 9,
   "metadata": {},
   "outputs": [
    {
     "data": {
      "text/plain": [
       "array([[99, 29],\n",
       "       [46, 21]], dtype=int64)"
      ]
     },
     "execution_count": 9,
     "metadata": {},
     "output_type": "execute_result"
    }
   ],
   "source": [
    "from sklearn.metrics import confusion_matrix\n",
    "y_test_pred = knn.predict(X_test) #the predicted values\n",
    "cm = confusion_matrix(y_test, y_test_pred) #creates a \"confusion matrix\"\n",
    "cm"
   ]
  },
  {
   "cell_type": "markdown",
   "metadata": {},
   "source": [
    "The recall and precision for this are:\n",
    "\n",
    "$recall = \\frac{100}{100 + 28} = 0.78125$\n",
    "\n",
    "$precision = \\frac{100}{100 + 46} = 0.68493150684$\n",
    "\n",
    "(After re-running the data set the numbers were slighty different)"
   ]
  },
  {
   "cell_type": "markdown",
   "metadata": {},
   "source": [
    "## Random Forest\n",
    "\n",
    "Let's train the Random Forest algorithm. RF uses randomness, so we need to set a *random_state* if we want the result to be stable for presentation purposes.\n",
    "\n",
    "I've also set the number of trees (*n_estimators*) to 100. This will become the default number of trees in the future of the *sklearn* package, since current literature suggests using more trees than was used traditionally (10). Also, computing power has increased (more trees require more computing power). The following might take half a minute or so to run, depending on your machine. (Text by Jonas)"
   ]
  },
  {
   "cell_type": "code",
   "execution_count": 10,
   "metadata": {},
   "outputs": [],
   "source": [
    "rf = RandomForestClassifier(random_state=1, n_estimators=100) #RF is a random algorithm, so to get the same results we need to use random_state\n",
    "rf = rf.fit(X_train, y_train)"
   ]
  },
  {
   "cell_type": "markdown",
   "metadata": {},
   "source": [
    "In my understanding Random Forest makes use of many decision trees and uses the outcome of these to make a more accurate prediction. "
   ]
  },
  {
   "cell_type": "markdown",
   "metadata": {},
   "source": [
    "## Evaluating the model ##"
   ]
  },
  {
   "cell_type": "markdown",
   "metadata": {},
   "source": [
    "Let's evaluate the model using our standard approach for a *classification* problem: making a confusion matrix and calculating accuracy, precision and recall.\n",
    "\n",
    "The confusion matrix uses the *sorted* labels, so 0 comes first, 1 second."
   ]
  },
  {
   "cell_type": "code",
   "execution_count": 11,
   "metadata": {},
   "outputs": [
    {
     "data": {
      "text/html": [
       "<div>\n",
       "<style scoped>\n",
       "    .dataframe tbody tr th:only-of-type {\n",
       "        vertical-align: middle;\n",
       "    }\n",
       "\n",
       "    .dataframe tbody tr th {\n",
       "        vertical-align: top;\n",
       "    }\n",
       "\n",
       "    .dataframe thead th {\n",
       "        text-align: right;\n",
       "    }\n",
       "</style>\n",
       "<table border=\"1\" class=\"dataframe\">\n",
       "  <thead>\n",
       "    <tr style=\"text-align: right;\">\n",
       "      <th></th>\n",
       "      <th>no relationship (pred)</th>\n",
       "      <th>relationship (pred)</th>\n",
       "    </tr>\n",
       "  </thead>\n",
       "  <tbody>\n",
       "    <tr>\n",
       "      <th>no relationship (actual)</th>\n",
       "      <td>100</td>\n",
       "      <td>28</td>\n",
       "    </tr>\n",
       "    <tr>\n",
       "      <th>relationship (actual)</th>\n",
       "      <td>46</td>\n",
       "      <td>21</td>\n",
       "    </tr>\n",
       "  </tbody>\n",
       "</table>\n",
       "</div>"
      ],
      "text/plain": [
       "                          no relationship (pred)  relationship (pred)\n",
       "no relationship (actual)                     100                   28\n",
       "relationship (actual)                         46                   21"
      ]
     },
     "execution_count": 11,
     "metadata": {},
     "output_type": "execute_result"
    }
   ],
   "source": [
    "y_pred = rf.predict(X_test) #the predicted values\n",
    "cm = confusion_matrix(y_test, y_pred) #creates a \"confusion matrix\"\n",
    "cm = pd.DataFrame(cm, index=['no relationship (actual)', 'relationship (actual)'], columns = ['no relationship (pred)', 'relationship (pred)']) #label and make df\n",
    "cm"
   ]
  },
  {
   "cell_type": "markdown",
   "metadata": {},
   "source": [
    "As we can see from the confusion matrix, no relationship is detected reasonably well. \n",
    "Let's analyze the confusion matrix. \n",
    "The algorithm correctly predicted 100 cases of no romantic relationship and falsely predicted 46 people that were in a relationship to not be in a relationship. \n",
    "\n",
    "On the other hand it correctly predicted 21 to be in a relationship, however 28 people that are in a relationship were predicted to not in a relationship.\n",
    "\n",
    "To calculate some numbers I am using a function called *classification_report*."
   ]
  },
  {
   "cell_type": "code",
   "execution_count": 12,
   "metadata": {},
   "outputs": [
    {
     "name": "stdout",
     "output_type": "stream",
     "text": [
      "              precision    recall  f1-score   support\n",
      "\n",
      "          no       0.68      0.78      0.73       128\n",
      "         yes       0.43      0.31      0.36        67\n",
      "\n",
      "    accuracy                           0.62       195\n",
      "   macro avg       0.56      0.55      0.55       195\n",
      "weighted avg       0.60      0.62      0.60       195\n",
      "\n"
     ]
    }
   ],
   "source": [
    "from sklearn.metrics import classification_report\n",
    "print(classification_report(y_test, y_pred))"
   ]
  },
  {
   "cell_type": "markdown",
   "metadata": {},
   "source": [
    "The precision for fraud is alright: about 43% of the suspected relationships turn out not to be in a relationship.\n",
    "\n",
    "The recall is acceptable, but a bit low. We still miss about 31% of the relationship cases.\n",
    "\n",
    "These results are very similar to the outcomes of te knn algorithm, which makes me believe that it is right. Perhaps choosing other variables could improve the precision of the algorithm. "
   ]
  },
  {
   "cell_type": "markdown",
   "metadata": {},
   "source": [
    "## Making use of probabilities ##"
   ]
  },
  {
   "cell_type": "markdown",
   "metadata": {},
   "source": [
    "We saw that recall is probably the most important measure in this case. We also saw that there is a trade-off between precision and recall. So can we improve recall at the expense of precision?\n",
    "\n",
    "Yes, it turns out we can. What actually happens \"under the hood\" of the algorithm, is that a probability is calculated. The algorithm then classifies cases according to this probability. The standard setting is to select the outcome with the highest probability. But, we can also work with the probabilities themselves.\n",
    "\n",
    "Let's get the probabilities using *predict_proba*. Note that I'm using the first RF model again. (Text by Jonas) "
   ]
  },
  {
   "cell_type": "code",
   "execution_count": 13,
   "metadata": {},
   "outputs": [
    {
     "data": {
      "text/plain": [
       "array([[0.20416667, 0.79583333],\n",
       "       [0.24      , 0.76      ],\n",
       "       [0.63214286, 0.36785714],\n",
       "       [0.26833333, 0.73166667],\n",
       "       [0.59      , 0.41      ],\n",
       "       [0.98      , 0.02      ],\n",
       "       [0.6925    , 0.3075    ],\n",
       "       [0.81402381, 0.18597619],\n",
       "       [0.96      , 0.04      ],\n",
       "       [0.74333333, 0.25666667],\n",
       "       [0.94      , 0.06      ],\n",
       "       [0.66516667, 0.33483333],\n",
       "       [0.16      , 0.84      ],\n",
       "       [0.62      , 0.38      ],\n",
       "       [0.481     , 0.519     ],\n",
       "       [0.36      , 0.64      ],\n",
       "       [0.96166667, 0.03833333],\n",
       "       [0.64469048, 0.35530952],\n",
       "       [0.845     , 0.155     ],\n",
       "       [0.266     , 0.734     ],\n",
       "       [0.95666667, 0.04333333],\n",
       "       [0.45      , 0.55      ],\n",
       "       [0.54783333, 0.45216667],\n",
       "       [0.7135    , 0.2865    ],\n",
       "       [0.89      , 0.11      ],\n",
       "       [0.55833333, 0.44166667],\n",
       "       [0.89      , 0.11      ],\n",
       "       [0.8675    , 0.1325    ],\n",
       "       [0.7625    , 0.2375    ],\n",
       "       [0.845     , 0.155     ],\n",
       "       [0.428     , 0.572     ],\n",
       "       [0.722     , 0.278     ],\n",
       "       [0.33383333, 0.66616667],\n",
       "       [0.54533333, 0.45466667],\n",
       "       [0.66916667, 0.33083333],\n",
       "       [0.62      , 0.38      ],\n",
       "       [0.82519048, 0.17480952],\n",
       "       [0.845     , 0.155     ],\n",
       "       [0.60545238, 0.39454762],\n",
       "       [0.72      , 0.28      ],\n",
       "       [0.8875    , 0.1125    ],\n",
       "       [0.56778571, 0.43221429],\n",
       "       [0.7235    , 0.2765    ],\n",
       "       [0.43      , 0.57      ],\n",
       "       [0.71407143, 0.28592857],\n",
       "       [0.69      , 0.31      ],\n",
       "       [0.6925    , 0.3075    ],\n",
       "       [0.77898232, 0.22101768],\n",
       "       [0.8905    , 0.1095    ],\n",
       "       [0.525     , 0.475     ],\n",
       "       [0.8185    , 0.1815    ],\n",
       "       [0.78      , 0.22      ],\n",
       "       [0.27      , 0.73      ],\n",
       "       [0.916     , 0.084     ],\n",
       "       [0.1525    , 0.8475    ],\n",
       "       [0.58      , 0.42      ],\n",
       "       [0.855     , 0.145     ],\n",
       "       [0.56945238, 0.43054762],\n",
       "       [0.61133333, 0.38866667],\n",
       "       [0.63883333, 0.36116667],\n",
       "       [0.807     , 0.193     ],\n",
       "       [0.98      , 0.02      ],\n",
       "       [0.73416667, 0.26583333],\n",
       "       [0.506     , 0.494     ],\n",
       "       [0.95666667, 0.04333333],\n",
       "       [0.559     , 0.441     ],\n",
       "       [0.87      , 0.13      ],\n",
       "       [0.5325    , 0.4675    ],\n",
       "       [0.85916667, 0.14083333],\n",
       "       [0.39      , 0.61      ],\n",
       "       [0.31333333, 0.68666667],\n",
       "       [0.93      , 0.07      ],\n",
       "       [0.5675    , 0.4325    ],\n",
       "       [0.505     , 0.495     ],\n",
       "       [0.87      , 0.13      ],\n",
       "       [0.739     , 0.261     ],\n",
       "       [0.26      , 0.74      ],\n",
       "       [0.6732619 , 0.3267381 ],\n",
       "       [0.39166667, 0.60833333],\n",
       "       [0.722     , 0.278     ],\n",
       "       [0.8905    , 0.1095    ],\n",
       "       [0.45792857, 0.54207143],\n",
       "       [0.67611905, 0.32388095],\n",
       "       [0.266     , 0.734     ],\n",
       "       [0.75      , 0.25      ],\n",
       "       [0.65740476, 0.34259524],\n",
       "       [0.82519048, 0.17480952],\n",
       "       [0.8       , 0.2       ],\n",
       "       [0.2625    , 0.7375    ],\n",
       "       [0.76333333, 0.23666667],\n",
       "       [0.68666667, 0.31333333],\n",
       "       [0.8       , 0.2       ],\n",
       "       [0.835     , 0.165     ],\n",
       "       [0.22      , 0.78      ],\n",
       "       [0.57666667, 0.42333333],\n",
       "       [0.85283333, 0.14716667],\n",
       "       [0.61      , 0.39      ],\n",
       "       [0.6225    , 0.3775    ],\n",
       "       [0.77416667, 0.22583333],\n",
       "       [0.45333333, 0.54666667],\n",
       "       [0.83      , 0.17      ],\n",
       "       [0.96      , 0.04      ],\n",
       "       [0.2675    , 0.7325    ],\n",
       "       [0.85      , 0.15      ],\n",
       "       [0.91      , 0.09      ],\n",
       "       [0.6       , 0.4       ],\n",
       "       [0.71216667, 0.28783333],\n",
       "       [0.265     , 0.735     ],\n",
       "       [0.63      , 0.37      ],\n",
       "       [0.25333333, 0.74666667],\n",
       "       [0.4925    , 0.5075    ],\n",
       "       [0.49433333, 0.50566667],\n",
       "       [0.77952381, 0.22047619],\n",
       "       [0.58416667, 0.41583333],\n",
       "       [0.385     , 0.615     ],\n",
       "       [0.94      , 0.06      ],\n",
       "       [0.78933333, 0.21066667],\n",
       "       [0.78      , 0.22      ],\n",
       "       [0.313     , 0.687     ],\n",
       "       [0.76166667, 0.23833333],\n",
       "       [0.58      , 0.42      ],\n",
       "       [0.34169048, 0.65830952],\n",
       "       [0.3875    , 0.6125    ],\n",
       "       [0.8525    , 0.1475    ],\n",
       "       [0.83      , 0.17      ],\n",
       "       [0.72847619, 0.27152381],\n",
       "       [0.81      , 0.19      ],\n",
       "       [0.57      , 0.43      ],\n",
       "       [0.58      , 0.42      ],\n",
       "       [0.61916667, 0.38083333],\n",
       "       [0.43095238, 0.56904762],\n",
       "       [0.5875    , 0.4125    ],\n",
       "       [0.98      , 0.02      ],\n",
       "       [0.7675    , 0.2325    ],\n",
       "       [0.7525    , 0.2475    ],\n",
       "       [0.6925    , 0.3075    ],\n",
       "       [0.2675    , 0.7325    ],\n",
       "       [0.24333333, 0.75666667],\n",
       "       [0.4       , 0.6       ],\n",
       "       [0.67266667, 0.32733333],\n",
       "       [0.32666667, 0.67333333],\n",
       "       [0.95      , 0.05      ],\n",
       "       [0.5725    , 0.4275    ],\n",
       "       [0.305     , 0.695     ],\n",
       "       [0.39683333, 0.60316667],\n",
       "       [0.1       , 0.9       ],\n",
       "       [0.78733333, 0.21266667],\n",
       "       [0.84116667, 0.15883333],\n",
       "       [0.83      , 0.17      ],\n",
       "       [0.63      , 0.37      ],\n",
       "       [0.31333333, 0.68666667],\n",
       "       [0.89916667, 0.10083333],\n",
       "       [0.72166667, 0.27833333],\n",
       "       [0.63669048, 0.36330952],\n",
       "       [0.45066667, 0.54933333],\n",
       "       [0.53      , 0.47      ],\n",
       "       [0.47619048, 0.52380952],\n",
       "       [0.47619048, 0.52380952],\n",
       "       [0.67166667, 0.32833333],\n",
       "       [0.60516667, 0.39483333],\n",
       "       [0.7125    , 0.2875    ],\n",
       "       [0.38766667, 0.61233333],\n",
       "       [0.80333333, 0.19666667],\n",
       "       [0.56971429, 0.43028571],\n",
       "       [0.19      , 0.81      ],\n",
       "       [0.66816667, 0.33183333],\n",
       "       [0.73635714, 0.26364286],\n",
       "       [0.555     , 0.445     ],\n",
       "       [0.895     , 0.105     ],\n",
       "       [0.98      , 0.02      ],\n",
       "       [0.49803571, 0.50196429],\n",
       "       [0.3       , 0.7       ],\n",
       "       [0.905     , 0.095     ],\n",
       "       [0.89166667, 0.10833333],\n",
       "       [0.75916667, 0.24083333],\n",
       "       [0.72066667, 0.27933333],\n",
       "       [0.68619048, 0.31380952],\n",
       "       [0.87333333, 0.12666667],\n",
       "       [0.83      , 0.17      ],\n",
       "       [0.47      , 0.53      ],\n",
       "       [0.55185714, 0.44814286],\n",
       "       [0.67266667, 0.32733333],\n",
       "       [0.78733333, 0.21266667],\n",
       "       [0.67666667, 0.32333333],\n",
       "       [0.74666667, 0.25333333],\n",
       "       [0.66295238, 0.33704762],\n",
       "       [0.64052381, 0.35947619],\n",
       "       [0.836     , 0.164     ],\n",
       "       [0.62      , 0.38      ],\n",
       "       [0.88666667, 0.11333333],\n",
       "       [0.6075    , 0.3925    ],\n",
       "       [0.86      , 0.14      ],\n",
       "       [0.90833333, 0.09166667],\n",
       "       [0.16      , 0.84      ],\n",
       "       [0.8607619 , 0.1392381 ]])"
      ]
     },
     "execution_count": 13,
     "metadata": {},
     "output_type": "execute_result"
    }
   ],
   "source": [
    "y_pred_prob = rf.predict_proba(X_test) #Instead of classes, we now get the probabilities\n",
    "y_pred_prob\n"
   ]
  },
  {
   "cell_type": "markdown",
   "metadata": {},
   "source": [
    "This is a two-dimensional array, with probabilities for no-relationship (first number) and relationship (second number). Let's visualize the probabilities to see."
   ]
  },
  {
   "cell_type": "code",
   "execution_count": 14,
   "metadata": {},
   "outputs": [
    {
     "data": {
      "image/png": "[encoded data removed]",
      "text/plain": [
       "<Figure size 432x288 with 1 Axes>"
      ]
     },
     "metadata": {
      "needs_background": "light"
     },
     "output_type": "display_data"
    }
   ],
   "source": [
    "fraud_prob = y_pred_prob[:,1] #this subsets the second column (fraud)\n",
    "sns.distplot(fraud_prob)\n",
    "plt.xlabel(\"Probability of a relationship\")\n",
    "plt.ylabel(\"Count\")\n",
    "plt.title(\"Romantic relationship predictions by Random Forest\")\n",
    "plt.show()"
   ]
  },
  {
   "cell_type": "markdown",
   "metadata": {},
   "source": [
    "I am not quite sure what this graph means, to be honest but I thought I would add it either way. "
   ]
  },
  {
   "cell_type": "code",
   "execution_count": null,
   "metadata": {},
   "outputs": [],
   "source": []
  }
 ],
 "metadata": {
  "kernelspec": {
   "display_name": "Python 3",
   "language": "python",
   "name": "python3"
  },
  "language_info": {
   "codemirror_mode": {
    "name": "ipython",
    "version": 3
   },
   "file_extension": ".py",
   "mimetype": "text/x-python",
   "name": "python",
   "nbconvert_exporter": "python",
   "pygments_lexer": "ipython3",
   "version": "3.7.6"
  }
 },
 "nbformat": 4,
 "nbformat_minor": 2
}

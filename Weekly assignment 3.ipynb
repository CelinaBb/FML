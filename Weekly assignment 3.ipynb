{
 "cells": [
  {
   "cell_type": "markdown",
   "metadata": {},
   "source": [
    "# Weekly assignment 3\n"
   ]
  },
  {
   "cell_type": "markdown",
   "metadata": {},
   "source": [
    "Explain briefly in your own words how linear regression works:\n",
    "Linear regression shows the relation between two variables: the y variable (dependent) and x variable (independent). The relationship can either be positive (asending graph), negative(descending graph)or no realtionship at all. \n",
    "The linear regression model is able to predict y based on x (or multiple x variables) to certain degree.\n",
    "The variation of the model is the degree to which a model is accuratly able to predict an outcome."
   ]
  },
  {
   "cell_type": "markdown",
   "metadata": {},
   "source": [
    "### Data pre-processing steps"
   ]
  },
  {
   "cell_type": "markdown",
   "metadata": {},
   "source": [
    "Importing necessary libraries"
   ]
  },
  {
   "cell_type": "code",
   "execution_count": 14,
   "metadata": {},
   "outputs": [],
   "source": [
    "import seaborn as sns\n",
    "import pandas as pd\n",
    "import matplotlib.pyplot as plt\n",
    "import math\n",
    "from sklearn.linear_model import LinearRegression\n",
    "from sklearn.model_selection import train_test_split\n",
    "from sklearn.metrics import mean_squared_error\n",
    "from sklearn.metrics import r2_score"
   ]
  },
  {
   "cell_type": "markdown",
   "metadata": {},
   "source": [
    "Getting the dataset"
   ]
  },
  {
   "cell_type": "code",
   "execution_count": 24,
   "metadata": {},
   "outputs": [
    {
     "name": "stdout",
     "output_type": "stream",
     "text": [
      "This is the head of the resulting dataframe:\n"
     ]
    },
    {
     "data": {
      "text/html": [
       "<div>\n",
       "<style scoped>\n",
       "    .dataframe tbody tr th:only-of-type {\n",
       "        vertical-align: middle;\n",
       "    }\n",
       "\n",
       "    .dataframe tbody tr th {\n",
       "        vertical-align: top;\n",
       "    }\n",
       "\n",
       "    .dataframe thead th {\n",
       "        text-align: right;\n",
       "    }\n",
       "</style>\n",
       "<table border=\"1\" class=\"dataframe\">\n",
       "  <thead>\n",
       "    <tr style=\"text-align: right;\">\n",
       "      <th></th>\n",
       "      <th>id</th>\n",
       "      <th>url</th>\n",
       "      <th>n_tokens_title</th>\n",
       "      <th>n_tokens_content</th>\n",
       "      <th>num_imgs</th>\n",
       "      <th>num_videos</th>\n",
       "      <th>average_token_length</th>\n",
       "      <th>data_channel_is_lifestyle</th>\n",
       "      <th>data_channel_is_entertainment</th>\n",
       "      <th>data_channel_is_bus</th>\n",
       "      <th>...</th>\n",
       "      <th>weekday_is_friday</th>\n",
       "      <th>weekday_is_saturday</th>\n",
       "      <th>weekday_is_sunday</th>\n",
       "      <th>is_weekend</th>\n",
       "      <th>global_subjectivity</th>\n",
       "      <th>global_sentiment_polarity</th>\n",
       "      <th>title_subjectivity</th>\n",
       "      <th>title_sentiment_polarity</th>\n",
       "      <th>shares</th>\n",
       "      <th>shares_log</th>\n",
       "    </tr>\n",
       "  </thead>\n",
       "  <tbody>\n",
       "    <tr>\n",
       "      <th>0</th>\n",
       "      <td>1</td>\n",
       "      <td>http://mashable.com/2013/10/29/ashton-kutcher-...</td>\n",
       "      <td>10</td>\n",
       "      <td>821</td>\n",
       "      <td>12</td>\n",
       "      <td>0</td>\n",
       "      <td>4.518879</td>\n",
       "      <td>0</td>\n",
       "      <td>0</td>\n",
       "      <td>0</td>\n",
       "      <td>...</td>\n",
       "      <td>0</td>\n",
       "      <td>0</td>\n",
       "      <td>0</td>\n",
       "      <td>0</td>\n",
       "      <td>0.439379</td>\n",
       "      <td>0.082486</td>\n",
       "      <td>0.666667</td>\n",
       "      <td>0.375000</td>\n",
       "      <td>2100</td>\n",
       "      <td>3.322219</td>\n",
       "    </tr>\n",
       "    <tr>\n",
       "      <th>1</th>\n",
       "      <td>2</td>\n",
       "      <td>http://mashable.com/2014/09/08/mashies-sept-19...</td>\n",
       "      <td>9</td>\n",
       "      <td>489</td>\n",
       "      <td>6</td>\n",
       "      <td>0</td>\n",
       "      <td>5.040900</td>\n",
       "      <td>0</td>\n",
       "      <td>0</td>\n",
       "      <td>0</td>\n",
       "      <td>...</td>\n",
       "      <td>0</td>\n",
       "      <td>0</td>\n",
       "      <td>0</td>\n",
       "      <td>0</td>\n",
       "      <td>0.300454</td>\n",
       "      <td>0.027715</td>\n",
       "      <td>0.000000</td>\n",
       "      <td>0.000000</td>\n",
       "      <td>274</td>\n",
       "      <td>2.437751</td>\n",
       "    </tr>\n",
       "    <tr>\n",
       "      <th>2</th>\n",
       "      <td>3</td>\n",
       "      <td>http://mashable.com/2013/02/01/hello-kitty-roc...</td>\n",
       "      <td>11</td>\n",
       "      <td>131</td>\n",
       "      <td>0</td>\n",
       "      <td>1</td>\n",
       "      <td>4.877863</td>\n",
       "      <td>0</td>\n",
       "      <td>0</td>\n",
       "      <td>0</td>\n",
       "      <td>...</td>\n",
       "      <td>1</td>\n",
       "      <td>0</td>\n",
       "      <td>0</td>\n",
       "      <td>0</td>\n",
       "      <td>0.575486</td>\n",
       "      <td>0.259120</td>\n",
       "      <td>0.000000</td>\n",
       "      <td>0.000000</td>\n",
       "      <td>1500</td>\n",
       "      <td>3.176091</td>\n",
       "    </tr>\n",
       "    <tr>\n",
       "      <th>3</th>\n",
       "      <td>4</td>\n",
       "      <td>http://mashable.com/2014/02/06/add-us-on-snapc...</td>\n",
       "      <td>8</td>\n",
       "      <td>556</td>\n",
       "      <td>2</td>\n",
       "      <td>0</td>\n",
       "      <td>4.974820</td>\n",
       "      <td>0</td>\n",
       "      <td>0</td>\n",
       "      <td>1</td>\n",
       "      <td>...</td>\n",
       "      <td>0</td>\n",
       "      <td>0</td>\n",
       "      <td>0</td>\n",
       "      <td>0</td>\n",
       "      <td>0.327220</td>\n",
       "      <td>0.134424</td>\n",
       "      <td>0.000000</td>\n",
       "      <td>0.000000</td>\n",
       "      <td>2000</td>\n",
       "      <td>3.301030</td>\n",
       "    </tr>\n",
       "    <tr>\n",
       "      <th>4</th>\n",
       "      <td>5</td>\n",
       "      <td>http://mashable.com/2014/01/07/lindsey-vonn-wi...</td>\n",
       "      <td>9</td>\n",
       "      <td>880</td>\n",
       "      <td>18</td>\n",
       "      <td>0</td>\n",
       "      <td>4.928409</td>\n",
       "      <td>0</td>\n",
       "      <td>0</td>\n",
       "      <td>0</td>\n",
       "      <td>...</td>\n",
       "      <td>0</td>\n",
       "      <td>0</td>\n",
       "      <td>0</td>\n",
       "      <td>0</td>\n",
       "      <td>0.507709</td>\n",
       "      <td>0.109256</td>\n",
       "      <td>0.000000</td>\n",
       "      <td>0.000000</td>\n",
       "      <td>6000</td>\n",
       "      <td>3.778151</td>\n",
       "    </tr>\n",
       "    <tr>\n",
       "      <th>5</th>\n",
       "      <td>6</td>\n",
       "      <td>http://mashable.com/2014/04/24/amazing-lebron-...</td>\n",
       "      <td>13</td>\n",
       "      <td>303</td>\n",
       "      <td>2</td>\n",
       "      <td>0</td>\n",
       "      <td>4.970297</td>\n",
       "      <td>0</td>\n",
       "      <td>0</td>\n",
       "      <td>0</td>\n",
       "      <td>...</td>\n",
       "      <td>0</td>\n",
       "      <td>0</td>\n",
       "      <td>0</td>\n",
       "      <td>0</td>\n",
       "      <td>0.394298</td>\n",
       "      <td>0.048684</td>\n",
       "      <td>0.000000</td>\n",
       "      <td>0.000000</td>\n",
       "      <td>1200</td>\n",
       "      <td>3.079181</td>\n",
       "    </tr>\n",
       "    <tr>\n",
       "      <th>6</th>\n",
       "      <td>7</td>\n",
       "      <td>http://mashable.com/2013/06/22/social-media-we...</td>\n",
       "      <td>6</td>\n",
       "      <td>544</td>\n",
       "      <td>11</td>\n",
       "      <td>0</td>\n",
       "      <td>4.617647</td>\n",
       "      <td>0</td>\n",
       "      <td>0</td>\n",
       "      <td>0</td>\n",
       "      <td>...</td>\n",
       "      <td>0</td>\n",
       "      <td>1</td>\n",
       "      <td>0</td>\n",
       "      <td>1</td>\n",
       "      <td>0.439512</td>\n",
       "      <td>0.267391</td>\n",
       "      <td>0.500000</td>\n",
       "      <td>0.500000</td>\n",
       "      <td>3500</td>\n",
       "      <td>3.544068</td>\n",
       "    </tr>\n",
       "    <tr>\n",
       "      <th>7</th>\n",
       "      <td>8</td>\n",
       "      <td>http://mashable.com/2013/07/09/russian-deletes...</td>\n",
       "      <td>12</td>\n",
       "      <td>223</td>\n",
       "      <td>1</td>\n",
       "      <td>0</td>\n",
       "      <td>4.399103</td>\n",
       "      <td>0</td>\n",
       "      <td>0</td>\n",
       "      <td>0</td>\n",
       "      <td>...</td>\n",
       "      <td>0</td>\n",
       "      <td>0</td>\n",
       "      <td>0</td>\n",
       "      <td>0</td>\n",
       "      <td>0.394792</td>\n",
       "      <td>0.053125</td>\n",
       "      <td>0.218182</td>\n",
       "      <td>0.145455</td>\n",
       "      <td>1500</td>\n",
       "      <td>3.176091</td>\n",
       "    </tr>\n",
       "    <tr>\n",
       "      <th>8</th>\n",
       "      <td>9</td>\n",
       "      <td>http://mashable.com/2013/03/07/3d-printed-skull/</td>\n",
       "      <td>8</td>\n",
       "      <td>438</td>\n",
       "      <td>1</td>\n",
       "      <td>0</td>\n",
       "      <td>5.027397</td>\n",
       "      <td>0</td>\n",
       "      <td>0</td>\n",
       "      <td>0</td>\n",
       "      <td>...</td>\n",
       "      <td>0</td>\n",
       "      <td>0</td>\n",
       "      <td>0</td>\n",
       "      <td>0</td>\n",
       "      <td>0.479187</td>\n",
       "      <td>0.166913</td>\n",
       "      <td>0.500000</td>\n",
       "      <td>0.200000</td>\n",
       "      <td>3100</td>\n",
       "      <td>3.491362</td>\n",
       "    </tr>\n",
       "    <tr>\n",
       "      <th>9</th>\n",
       "      <td>10</td>\n",
       "      <td>http://mashable.com/2013/11/16/xbox-one-vs-pla...</td>\n",
       "      <td>11</td>\n",
       "      <td>389</td>\n",
       "      <td>1</td>\n",
       "      <td>1</td>\n",
       "      <td>4.642674</td>\n",
       "      <td>0</td>\n",
       "      <td>0</td>\n",
       "      <td>1</td>\n",
       "      <td>...</td>\n",
       "      <td>0</td>\n",
       "      <td>1</td>\n",
       "      <td>0</td>\n",
       "      <td>1</td>\n",
       "      <td>0.417229</td>\n",
       "      <td>0.183895</td>\n",
       "      <td>0.166667</td>\n",
       "      <td>0.000000</td>\n",
       "      <td>27300</td>\n",
       "      <td>4.436163</td>\n",
       "    </tr>\n",
       "  </tbody>\n",
       "</table>\n",
       "<p>10 rows × 27 columns</p>\n",
       "</div>"
      ],
      "text/plain": [
       "   id                                                url  n_tokens_title  \\\n",
       "0   1  http://mashable.com/2013/10/29/ashton-kutcher-...              10   \n",
       "1   2  http://mashable.com/2014/09/08/mashies-sept-19...               9   \n",
       "2   3  http://mashable.com/2013/02/01/hello-kitty-roc...              11   \n",
       "3   4  http://mashable.com/2014/02/06/add-us-on-snapc...               8   \n",
       "4   5  http://mashable.com/2014/01/07/lindsey-vonn-wi...               9   \n",
       "5   6  http://mashable.com/2014/04/24/amazing-lebron-...              13   \n",
       "6   7  http://mashable.com/2013/06/22/social-media-we...               6   \n",
       "7   8  http://mashable.com/2013/07/09/russian-deletes...              12   \n",
       "8   9   http://mashable.com/2013/03/07/3d-printed-skull/               8   \n",
       "9  10  http://mashable.com/2013/11/16/xbox-one-vs-pla...              11   \n",
       "\n",
       "   n_tokens_content  num_imgs  num_videos  average_token_length  \\\n",
       "0               821        12           0              4.518879   \n",
       "1               489         6           0              5.040900   \n",
       "2               131         0           1              4.877863   \n",
       "3               556         2           0              4.974820   \n",
       "4               880        18           0              4.928409   \n",
       "5               303         2           0              4.970297   \n",
       "6               544        11           0              4.617647   \n",
       "7               223         1           0              4.399103   \n",
       "8               438         1           0              5.027397   \n",
       "9               389         1           1              4.642674   \n",
       "\n",
       "   data_channel_is_lifestyle  data_channel_is_entertainment  \\\n",
       "0                          0                              0   \n",
       "1                          0                              0   \n",
       "2                          0                              0   \n",
       "3                          0                              0   \n",
       "4                          0                              0   \n",
       "5                          0                              0   \n",
       "6                          0                              0   \n",
       "7                          0                              0   \n",
       "8                          0                              0   \n",
       "9                          0                              0   \n",
       "\n",
       "   data_channel_is_bus  ...  weekday_is_friday  weekday_is_saturday  \\\n",
       "0                    0  ...                  0                    0   \n",
       "1                    0  ...                  0                    0   \n",
       "2                    0  ...                  1                    0   \n",
       "3                    1  ...                  0                    0   \n",
       "4                    0  ...                  0                    0   \n",
       "5                    0  ...                  0                    0   \n",
       "6                    0  ...                  0                    1   \n",
       "7                    0  ...                  0                    0   \n",
       "8                    0  ...                  0                    0   \n",
       "9                    1  ...                  0                    1   \n",
       "\n",
       "   weekday_is_sunday  is_weekend  global_subjectivity  \\\n",
       "0                  0           0             0.439379   \n",
       "1                  0           0             0.300454   \n",
       "2                  0           0             0.575486   \n",
       "3                  0           0             0.327220   \n",
       "4                  0           0             0.507709   \n",
       "5                  0           0             0.394298   \n",
       "6                  0           1             0.439512   \n",
       "7                  0           0             0.394792   \n",
       "8                  0           0             0.479187   \n",
       "9                  0           1             0.417229   \n",
       "\n",
       "   global_sentiment_polarity  title_subjectivity  title_sentiment_polarity  \\\n",
       "0                   0.082486            0.666667                  0.375000   \n",
       "1                   0.027715            0.000000                  0.000000   \n",
       "2                   0.259120            0.000000                  0.000000   \n",
       "3                   0.134424            0.000000                  0.000000   \n",
       "4                   0.109256            0.000000                  0.000000   \n",
       "5                   0.048684            0.000000                  0.000000   \n",
       "6                   0.267391            0.500000                  0.500000   \n",
       "7                   0.053125            0.218182                  0.145455   \n",
       "8                   0.166913            0.500000                  0.200000   \n",
       "9                   0.183895            0.166667                  0.000000   \n",
       "\n",
       "   shares  shares_log  \n",
       "0    2100    3.322219  \n",
       "1     274    2.437751  \n",
       "2    1500    3.176091  \n",
       "3    2000    3.301030  \n",
       "4    6000    3.778151  \n",
       "5    1200    3.079181  \n",
       "6    3500    3.544068  \n",
       "7    1500    3.176091  \n",
       "8    3100    3.491362  \n",
       "9   27300    4.436163  \n",
       "\n",
       "[10 rows x 27 columns]"
      ]
     },
     "execution_count": 24,
     "metadata": {},
     "output_type": "execute_result"
    }
   ],
   "source": [
    "df = pd.read_csv('data Mashable.csv')\n",
    "print(\"This is the head of the resulting dataframe:\")\n",
    "df.head(10)"
   ]
  },
  {
   "cell_type": "markdown",
   "metadata": {},
   "source": [
    "### Selecting Dataset to be analyzed\n",
    "As we want to to predict the number of shares that needs to be our y-variable. Further we need to select 5 x-variables to base our prediction on. I selected the variables 'number of images', 'number of videos', 'data channel is tech', 'average token length' and 'is weekend' because I am curious if these variables can impact the number of shares. Ideally these insights can lead to actionable insights to adjust e.g. the number of images in the article. "
   ]
  },
  {
   "cell_type": "code",
   "execution_count": 16,
   "metadata": {},
   "outputs": [
    {
     "data": {
      "text/html": [
       "<div>\n",
       "<style scoped>\n",
       "    .dataframe tbody tr th:only-of-type {\n",
       "        vertical-align: middle;\n",
       "    }\n",
       "\n",
       "    .dataframe tbody tr th {\n",
       "        vertical-align: top;\n",
       "    }\n",
       "\n",
       "    .dataframe thead th {\n",
       "        text-align: right;\n",
       "    }\n",
       "</style>\n",
       "<table border=\"1\" class=\"dataframe\">\n",
       "  <thead>\n",
       "    <tr style=\"text-align: right;\">\n",
       "      <th></th>\n",
       "      <th>num_imgs</th>\n",
       "      <th>num_videos</th>\n",
       "      <th>data_channel_is_tech</th>\n",
       "      <th>average_token_length</th>\n",
       "      <th>is_weekend</th>\n",
       "    </tr>\n",
       "    <tr>\n",
       "      <th>id</th>\n",
       "      <th></th>\n",
       "      <th></th>\n",
       "      <th></th>\n",
       "      <th></th>\n",
       "      <th></th>\n",
       "    </tr>\n",
       "  </thead>\n",
       "  <tbody>\n",
       "    <tr>\n",
       "      <th>1</th>\n",
       "      <td>12</td>\n",
       "      <td>0</td>\n",
       "      <td>1</td>\n",
       "      <td>4.518879</td>\n",
       "      <td>0</td>\n",
       "    </tr>\n",
       "    <tr>\n",
       "      <th>2</th>\n",
       "      <td>6</td>\n",
       "      <td>0</td>\n",
       "      <td>0</td>\n",
       "      <td>5.040900</td>\n",
       "      <td>0</td>\n",
       "    </tr>\n",
       "    <tr>\n",
       "      <th>3</th>\n",
       "      <td>0</td>\n",
       "      <td>1</td>\n",
       "      <td>0</td>\n",
       "      <td>4.877863</td>\n",
       "      <td>0</td>\n",
       "    </tr>\n",
       "    <tr>\n",
       "      <th>4</th>\n",
       "      <td>2</td>\n",
       "      <td>0</td>\n",
       "      <td>0</td>\n",
       "      <td>4.974820</td>\n",
       "      <td>0</td>\n",
       "    </tr>\n",
       "    <tr>\n",
       "      <th>5</th>\n",
       "      <td>18</td>\n",
       "      <td>0</td>\n",
       "      <td>1</td>\n",
       "      <td>4.928409</td>\n",
       "      <td>0</td>\n",
       "    </tr>\n",
       "  </tbody>\n",
       "</table>\n",
       "</div>"
      ],
      "text/plain": [
       "    num_imgs  num_videos  data_channel_is_tech  average_token_length  \\\n",
       "id                                                                     \n",
       "1         12           0                     1              4.518879   \n",
       "2          6           0                     0              5.040900   \n",
       "3          0           1                     0              4.877863   \n",
       "4          2           0                     0              4.974820   \n",
       "5         18           0                     1              4.928409   \n",
       "\n",
       "    is_weekend  \n",
       "id              \n",
       "1            0  \n",
       "2            0  \n",
       "3            0  \n",
       "4            0  \n",
       "5            0  "
      ]
     },
     "execution_count": 16,
     "metadata": {},
     "output_type": "execute_result"
    }
   ],
   "source": [
    "y = df['shares_log'] \n",
    "X = df[['num_imgs','num_videos', 'data_channel_is_tech', 'average_token_length', 'is_weekend']] #this slices the dataframe to include all rows and the columns from \"action\" to \"metascore\"\n",
    "X.index = df['id'] #this stores the movie names in the column names, so we don't lose track of them later\n",
    "X.head()"
   ]
  },
  {
   "cell_type": "markdown",
   "metadata": {},
   "source": [
    "We now have our X and y, and can start training the model. First, let's split the data into a training set and a test set."
   ]
  },
  {
   "cell_type": "markdown",
   "metadata": {},
   "source": [
    "### Splitting the dataset into a training and test set"
   ]
  },
  {
   "cell_type": "code",
   "execution_count": 17,
   "metadata": {},
   "outputs": [
    {
     "data": {
      "text/html": [
       "<div>\n",
       "<style scoped>\n",
       "    .dataframe tbody tr th:only-of-type {\n",
       "        vertical-align: middle;\n",
       "    }\n",
       "\n",
       "    .dataframe tbody tr th {\n",
       "        vertical-align: top;\n",
       "    }\n",
       "\n",
       "    .dataframe thead th {\n",
       "        text-align: right;\n",
       "    }\n",
       "</style>\n",
       "<table border=\"1\" class=\"dataframe\">\n",
       "  <thead>\n",
       "    <tr style=\"text-align: right;\">\n",
       "      <th></th>\n",
       "      <th>num_imgs</th>\n",
       "      <th>num_videos</th>\n",
       "      <th>data_channel_is_tech</th>\n",
       "      <th>average_token_length</th>\n",
       "      <th>is_weekend</th>\n",
       "    </tr>\n",
       "    <tr>\n",
       "      <th>id</th>\n",
       "      <th></th>\n",
       "      <th></th>\n",
       "      <th></th>\n",
       "      <th></th>\n",
       "      <th></th>\n",
       "    </tr>\n",
       "  </thead>\n",
       "  <tbody>\n",
       "    <tr>\n",
       "      <th>20922</th>\n",
       "      <td>0</td>\n",
       "      <td>1</td>\n",
       "      <td>0</td>\n",
       "      <td>4.560284</td>\n",
       "      <td>1</td>\n",
       "    </tr>\n",
       "    <tr>\n",
       "      <th>4486</th>\n",
       "      <td>9</td>\n",
       "      <td>0</td>\n",
       "      <td>0</td>\n",
       "      <td>4.732143</td>\n",
       "      <td>0</td>\n",
       "    </tr>\n",
       "    <tr>\n",
       "      <th>17756</th>\n",
       "      <td>1</td>\n",
       "      <td>0</td>\n",
       "      <td>0</td>\n",
       "      <td>4.710611</td>\n",
       "      <td>0</td>\n",
       "    </tr>\n",
       "    <tr>\n",
       "      <th>4705</th>\n",
       "      <td>23</td>\n",
       "      <td>1</td>\n",
       "      <td>0</td>\n",
       "      <td>4.669323</td>\n",
       "      <td>0</td>\n",
       "    </tr>\n",
       "    <tr>\n",
       "      <th>13494</th>\n",
       "      <td>13</td>\n",
       "      <td>2</td>\n",
       "      <td>0</td>\n",
       "      <td>4.511702</td>\n",
       "      <td>0</td>\n",
       "    </tr>\n",
       "  </tbody>\n",
       "</table>\n",
       "</div>"
      ],
      "text/plain": [
       "       num_imgs  num_videos  data_channel_is_tech  average_token_length  \\\n",
       "id                                                                        \n",
       "20922         0           1                     0              4.560284   \n",
       "4486          9           0                     0              4.732143   \n",
       "17756         1           0                     0              4.710611   \n",
       "4705         23           1                     0              4.669323   \n",
       "13494        13           2                     0              4.511702   \n",
       "\n",
       "       is_weekend  \n",
       "id                 \n",
       "20922           1  \n",
       "4486            0  \n",
       "17756           0  \n",
       "4705            0  \n",
       "13494           0  "
      ]
     },
     "execution_count": 17,
     "metadata": {},
     "output_type": "execute_result"
    }
   ],
   "source": [
    "X_train, X_test, y_train, y_test = train_test_split(X, y, test_size=0.3, random_state=1) #split the data, store it into different variables\n",
    "X_train.head() #The train data"
   ]
  },
  {
   "cell_type": "markdown",
   "metadata": {},
   "source": [
    "Training the linear model:"
   ]
  },
  {
   "cell_type": "code",
   "execution_count": 18,
   "metadata": {},
   "outputs": [],
   "source": [
    "lm = LinearRegression() #create the model\n",
    "model = lm.fit(X_train, y_train) #train the model"
   ]
  },
  {
   "cell_type": "markdown",
   "metadata": {},
   "source": [
    "Let's have a look at the coefficients"
   ]
  },
  {
   "cell_type": "code",
   "execution_count": 28,
   "metadata": {},
   "outputs": [
    {
     "data": {
      "text/html": [
       "<div>\n",
       "<style scoped>\n",
       "    .dataframe tbody tr th:only-of-type {\n",
       "        vertical-align: middle;\n",
       "    }\n",
       "\n",
       "    .dataframe tbody tr th {\n",
       "        vertical-align: top;\n",
       "    }\n",
       "\n",
       "    .dataframe thead th {\n",
       "        text-align: right;\n",
       "    }\n",
       "</style>\n",
       "<table border=\"1\" class=\"dataframe\">\n",
       "  <thead>\n",
       "    <tr style=\"text-align: right;\">\n",
       "      <th></th>\n",
       "      <th>0</th>\n",
       "    </tr>\n",
       "  </thead>\n",
       "  <tbody>\n",
       "    <tr>\n",
       "      <th>0.004225</th>\n",
       "      <td>num_imgs</td>\n",
       "    </tr>\n",
       "    <tr>\n",
       "      <th>0.004840</th>\n",
       "      <td>num_videos</td>\n",
       "    </tr>\n",
       "    <tr>\n",
       "      <th>0.053927</th>\n",
       "      <td>data_channel_is_tech</td>\n",
       "    </tr>\n",
       "    <tr>\n",
       "      <th>-0.019221</th>\n",
       "      <td>average_token_length</td>\n",
       "    </tr>\n",
       "    <tr>\n",
       "      <th>0.129586</th>\n",
       "      <td>is_weekend</td>\n",
       "    </tr>\n",
       "  </tbody>\n",
       "</table>\n",
       "</div>"
      ],
      "text/plain": [
       "                              0\n",
       " 0.004225              num_imgs\n",
       " 0.004840            num_videos\n",
       " 0.053927  data_channel_is_tech\n",
       "-0.019221  average_token_length\n",
       " 0.129586            is_weekend"
      ]
     },
     "execution_count": 28,
     "metadata": {},
     "output_type": "execute_result"
    }
   ],
   "source": [
    "coef = pd.DataFrame(X.columns.values, lm.coef_) #this creates a df with a column with the column names, and the coefficients of the model\n",
    "coef"
   ]
  },
  {
   "cell_type": "markdown",
   "metadata": {},
   "source": [
    "The coefficient is how much the specific x variable changes/has an impact on the y variable we are trying to predict. For example, for every additional picture the amount of shares increases by 0.004. However, this is only valid to a certain extent as at some point the more pictures dont result in more shares. The is_weekend variable increseases the amount of shares by 0.129 percent. All of the coefficients seem to be rather low and have only little impact on the amount of shares. "
   ]
  },
  {
   "cell_type": "markdown",
   "metadata": {},
   "source": [
    "### The equation of the model"
   ]
  },
  {
   "cell_type": "code",
   "execution_count": 67,
   "metadata": {},
   "outputs": [
    {
     "name": "stdout",
     "output_type": "stream",
     "text": [
      "The regression line is equal to y = 3.29 + 0.00422X\n"
     ]
    }
   ],
   "source": [
    "b0 = lm.intercept_ #gets the intercept\n",
    "b1 = lm.coef_[0] #lm.coef_ gets a list of coefficients (excluding the intercept). [0] gets the actual number from the list\n",
    "\n",
    "print(f\"The regression line is equal to y = {b0:.2f} + {b1:.5f}X\") #.0f formats to 2 decimals. "
   ]
  },
  {
   "cell_type": "markdown",
   "metadata": {},
   "source": [
    "Or, in a pretty markdown formula :\n",
    "\n",
    "$y= 3.29 + 0.00422X$\n",
    "\n",
    "That means the intercept is 3.29 and the slope is 0.0042. We have a graph that hits the y axis at 3,29 and has a slightly positie/ascending shape."
   ]
  },
  {
   "cell_type": "code",
   "execution_count": 77,
   "metadata": {},
   "outputs": [
    {
     "data": {
      "image/png": "[encoded data removed]",
      "text/plain": [
       "<Figure size 432x288 with 1 Axes>"
      ]
     },
     "metadata": {
      "needs_background": "light"
     },
     "output_type": "display_data"
    }
   ],
   "source": [
    "sns.scatterplot(y_test, y_test_p)\n",
    "plt.xlabel('Actual log shares')\n",
    "plt.ylabel('Predicted log shares')\n",
    "plt.xlim([0,6]) #Forcing the x- and y-axis to be the same length, so that we can compare \n",
    "#plt.ylim([3,4])\n",
    "plt.plot([0,6], [b0, 4], color='red', lw=1) #Plot a diagonal length\n",
    "plt.show()"
   ]
  },
  {
   "cell_type": "markdown",
   "metadata": {},
   "source": [
    "(I am not sure if this is right? The red line doesnt really match the dots well.)"
   ]
  },
  {
   "cell_type": "markdown",
   "metadata": {},
   "source": [
    "### Plots of the relation of your selected variables with the target\n",
    "\n"
   ]
  },
  {
   "cell_type": "code",
   "execution_count": 42,
   "metadata": {},
   "outputs": [
    {
     "data": {
      "text/html": [
       "<div>\n",
       "<style scoped>\n",
       "    .dataframe tbody tr th:only-of-type {\n",
       "        vertical-align: middle;\n",
       "    }\n",
       "\n",
       "    .dataframe tbody tr th {\n",
       "        vertical-align: top;\n",
       "    }\n",
       "\n",
       "    .dataframe thead th {\n",
       "        text-align: right;\n",
       "    }\n",
       "</style>\n",
       "<table border=\"1\" class=\"dataframe\">\n",
       "  <thead>\n",
       "    <tr style=\"text-align: right;\">\n",
       "      <th></th>\n",
       "      <th>shares_log</th>\n",
       "      <th>num_imgs</th>\n",
       "      <th>num_videos</th>\n",
       "      <th>data_channel_is_tech</th>\n",
       "      <th>average_token_length</th>\n",
       "      <th>is_weekend</th>\n",
       "    </tr>\n",
       "  </thead>\n",
       "  <tbody>\n",
       "    <tr>\n",
       "      <th>shares_log</th>\n",
       "      <td>1.000000</td>\n",
       "      <td>0.085575</td>\n",
       "      <td>0.037147</td>\n",
       "      <td>0.047729</td>\n",
       "      <td>-0.031730</td>\n",
       "      <td>0.105919</td>\n",
       "    </tr>\n",
       "    <tr>\n",
       "      <th>num_imgs</th>\n",
       "      <td>0.085575</td>\n",
       "      <td>1.000000</td>\n",
       "      <td>-0.073084</td>\n",
       "      <td>-0.008546</td>\n",
       "      <td>0.022387</td>\n",
       "      <td>0.053317</td>\n",
       "    </tr>\n",
       "    <tr>\n",
       "      <th>num_videos</th>\n",
       "      <td>0.037147</td>\n",
       "      <td>-0.073084</td>\n",
       "      <td>1.000000</td>\n",
       "      <td>-0.098555</td>\n",
       "      <td>-0.006436</td>\n",
       "      <td>-0.016556</td>\n",
       "    </tr>\n",
       "    <tr>\n",
       "      <th>data_channel_is_tech</th>\n",
       "      <td>0.047729</td>\n",
       "      <td>-0.008546</td>\n",
       "      <td>-0.098555</td>\n",
       "      <td>1.000000</td>\n",
       "      <td>0.000492</td>\n",
       "      <td>-0.003276</td>\n",
       "    </tr>\n",
       "    <tr>\n",
       "      <th>average_token_length</th>\n",
       "      <td>-0.031730</td>\n",
       "      <td>0.022387</td>\n",
       "      <td>-0.006436</td>\n",
       "      <td>0.000492</td>\n",
       "      <td>1.000000</td>\n",
       "      <td>-0.005759</td>\n",
       "    </tr>\n",
       "    <tr>\n",
       "      <th>is_weekend</th>\n",
       "      <td>0.105919</td>\n",
       "      <td>0.053317</td>\n",
       "      <td>-0.016556</td>\n",
       "      <td>-0.003276</td>\n",
       "      <td>-0.005759</td>\n",
       "      <td>1.000000</td>\n",
       "    </tr>\n",
       "  </tbody>\n",
       "</table>\n",
       "</div>"
      ],
      "text/plain": [
       "                      shares_log  num_imgs  num_videos  data_channel_is_tech  \\\n",
       "shares_log              1.000000  0.085575    0.037147              0.047729   \n",
       "num_imgs                0.085575  1.000000   -0.073084             -0.008546   \n",
       "num_videos              0.037147 -0.073084    1.000000             -0.098555   \n",
       "data_channel_is_tech    0.047729 -0.008546   -0.098555              1.000000   \n",
       "average_token_length   -0.031730  0.022387   -0.006436              0.000492   \n",
       "is_weekend              0.105919  0.053317   -0.016556             -0.003276   \n",
       "\n",
       "                      average_token_length  is_weekend  \n",
       "shares_log                       -0.031730    0.105919  \n",
       "num_imgs                          0.022387    0.053317  \n",
       "num_videos                       -0.006436   -0.016556  \n",
       "data_channel_is_tech              0.000492   -0.003276  \n",
       "average_token_length              1.000000   -0.005759  \n",
       "is_weekend                       -0.005759    1.000000  "
      ]
     },
     "execution_count": 42,
     "metadata": {},
     "output_type": "execute_result"
    }
   ],
   "source": [
    "corr = df[['shares_log', 'num_imgs','num_videos', 'data_channel_is_tech', 'average_token_length', 'is_weekend']].corr() #I'm leaving out the corrected variables (divided by 1 million)\n",
    "corr"
   ]
  },
  {
   "cell_type": "code",
   "execution_count": 43,
   "metadata": {},
   "outputs": [
    {
     "data": {
      "image/png": "[encoded data removed]",
      "text/plain": [
       "<Figure size 432x288 with 2 Axes>"
      ]
     },
     "metadata": {
      "needs_background": "light"
     },
     "output_type": "display_data"
    }
   ],
   "source": [
    "sns.heatmap(corr, xticklabels=corr.columns, yticklabels=corr.columns) #the last two arguments set the column names\n",
    "plt.show()"
   ]
  },
  {
   "cell_type": "markdown",
   "metadata": {},
   "source": [
    "All x-variables have a very week relationship with the number of shares. Further when plotting the graphs of the relationship of each x variable with the number of shares, it could be observed that there is no clear line and it seems somewhat random. "
   ]
  },
  {
   "cell_type": "code",
   "execution_count": 54,
   "metadata": {},
   "outputs": [
    {
     "data": {
      "image/png": "[encoded data removed]",
      "text/plain": [
       "<Figure size 360x360 with 1 Axes>"
      ]
     },
     "metadata": {
      "needs_background": "light"
     },
     "output_type": "display_data"
    }
   ],
   "source": [
    "sns.lmplot(x='num_imgs', y='shares_log', data=df, fit_reg=False) #The last argument leaves out a so-called \"confidence interval\"\n",
    "plt.title('Number of shares and number of images')\n",
    "plt.xlabel('Number of images')\n",
    "plt.ylabel('Number of shares(log)')\n",
    "plt.show()"
   ]
  },
  {
   "cell_type": "code",
   "execution_count": 55,
   "metadata": {},
   "outputs": [
    {
     "data": {
      "image/png": "[encoded data removed]",
      "text/plain": [
       "<Figure size 360x360 with 1 Axes>"
      ]
     },
     "metadata": {
      "needs_background": "light"
     },
     "output_type": "display_data"
    }
   ],
   "source": [
    "sns.lmplot(x='num_videos', y='shares_log', data=df, fit_reg=False) #The last argument leaves out a so-called \"confidence interval\"\n",
    "plt.title('Number of shares and number of videos')\n",
    "plt.xlabel('Number of videos')\n",
    "plt.ylabel('Number of shares(log)')\n",
    "plt.show()"
   ]
  },
  {
   "cell_type": "markdown",
   "metadata": {},
   "source": [
    "The graphs of the number of videos and pictures look very similar. It seems that including 0 pictures and videos covers the whole spectrum of high and low ammount of shares. The ones with the most images/videos score mediocre. The rest is somewhere in between. "
   ]
  },
  {
   "cell_type": "code",
   "execution_count": 78,
   "metadata": {},
   "outputs": [
    {
     "data": {
      "image/png": "[encoded data removed]",
      "text/plain": [
       "<Figure size 360x360 with 1 Axes>"
      ]
     },
     "metadata": {
      "needs_background": "light"
     },
     "output_type": "display_data"
    }
   ],
   "source": [
    "sns.lmplot(x='average_token_length', y='shares_log', data=df, fit_reg=False) #The last argument leaves out a so-called \"confidence interval\"\n",
    "plt.title('Average token length (in?)')\n",
    "plt.ylabel('Number of shares(log)')\n",
    "plt.show()"
   ]
  },
  {
   "cell_type": "markdown",
   "metadata": {},
   "source": [
    "Perhaps the 0 average token length was something I should have perhaps cleaned up? Except from that, the average token length seems to be fairly similar for all articles and still the share log covers the whole spectrum. I therefore assume that there is no strong relationship between token length and number of shares. "
   ]
  },
  {
   "cell_type": "code",
   "execution_count": 60,
   "metadata": {},
   "outputs": [
    {
     "data": {
      "image/png": "[encoded data removed]",
      "text/plain": [
       "<Figure size 432x288 with 1 Axes>"
      ]
     },
     "metadata": {
      "needs_background": "light"
     },
     "output_type": "display_data"
    }
   ],
   "source": [
    "sns.barplot(x='data_channel_is_tech', y='shares_log', data=df) #The last argument leaves out a so-called \"confidence interval\"\n",
    "plt.title('Number of shares and data channel is tech')\n",
    "plt.xlabel('data_channel_is_tech')\n",
    "plt.ylabel('Number of shares(log)')\n",
    "plt.show()"
   ]
  },
  {
   "cell_type": "markdown",
   "metadata": {},
   "source": [
    "The bar plot doesnt tell much about the nature of the relationship, but I quite honestly didnt know how else to plot a boolean variable. This graph tells us that the data_channel_is_tech was shared slightly more often than when it was not the case. Likewise, the graph below demonstartes that generally speaking the shares were higer on weekends. "
   ]
  },
  {
   "cell_type": "code",
   "execution_count": 66,
   "metadata": {},
   "outputs": [
    {
     "data": {
      "image/png": "[encoded data removed]",
      "text/plain": [
       "<Figure size 432x288 with 1 Axes>"
      ]
     },
     "metadata": {
      "needs_background": "light"
     },
     "output_type": "display_data"
    }
   ],
   "source": [
    "sns.barplot(x='is_weekend', y='shares_log', data=df) #The last argument leaves out a so-called \"confidence interval\"\n",
    "plt.title('Number of shares and weekend')\n",
    "plt.xlabel('Article was published on the weekend (0=False, 1= True)')\n",
    "plt.ylabel('Number of shares(log)')\n",
    "plt.show()"
   ]
  },
  {
   "cell_type": "markdown",
   "metadata": {},
   "source": [
    "## Evaluating the model on the test data\n",
    "### Predictive power of the model (R2)"
   ]
  },
  {
   "cell_type": "code",
   "execution_count": 20,
   "metadata": {},
   "outputs": [
    {
     "data": {
      "text/plain": [
       "0.021151165326994348"
      ]
     },
     "execution_count": 20,
     "metadata": {},
     "output_type": "execute_result"
    }
   ],
   "source": [
    "y_test_p = lm.predict(X_test) #Generate predictions for the test data. So we use X.test, not X.train\n",
    "r2_score(y_test, y_test_p)"
   ]
  },
  {
   "cell_type": "markdown",
   "metadata": {},
   "source": [
    "The R^2 is 0.02, which means 2% of the variation in shares is explained by the model. That's not very good.\n",
    "\n",
    "Let's calculate the RMSE: the root mean squared error."
   ]
  },
  {
   "cell_type": "markdown",
   "metadata": {},
   "source": [
    "### Predictive power of the model (RMSE)"
   ]
  },
  {
   "cell_type": "code",
   "execution_count": 21,
   "metadata": {},
   "outputs": [
    {
     "data": {
      "text/plain": [
       "0.4017146110947441"
      ]
     },
     "execution_count": 21,
     "metadata": {},
     "output_type": "execute_result"
    }
   ],
   "source": [
    "math.sqrt(mean_squared_error(y_test, y_test_p))"
   ]
  },
  {
   "cell_type": "markdown",
   "metadata": {},
   "source": [
    "The RMSE is 0.40, which means that we are typically about 0.40 off in our predicted rating (which goes from 0-10). \n",
    "\n",
    "Finally, let's plot the predicted value against the actual shares."
   ]
  },
  {
   "cell_type": "code",
   "execution_count": 76,
   "metadata": {},
   "outputs": [
    {
     "data": {
      "image/png": "[encoded data removed]",
      "text/plain": [
       "<Figure size 432x288 with 1 Axes>"
      ]
     },
     "metadata": {
      "needs_background": "light"
     },
     "output_type": "display_data"
    }
   ],
   "source": [
    "sns.scatterplot(y_test, y_test_p)\n",
    "plt.xlabel('Actual shares')\n",
    "plt.ylabel('Predicted shares')\n",
    "#plt.xlim([1,5]) #Forcing the x- and y-axis to be the same length, so that we can compare \n",
    "#plt.ylim([1,5])\n",
    "#plt.plot([1, 5], [1, 5], color='red', lw=3) #Plot a diagonal length\n",
    "plt.show()"
   ]
  },
  {
   "cell_type": "markdown",
   "metadata": {},
   "source": [
    "### Investigate residuals"
   ]
  },
  {
   "cell_type": "code",
   "execution_count": 82,
   "metadata": {},
   "outputs": [
    {
     "name": "stdout",
     "output_type": "stream",
     "text": [
      "       shares_log  predicted_shares  residual\n",
      "0        3.322219         -0.015886  0.055342\n",
      "2        3.176091          0.023557 -0.009485\n",
      "4        3.778151         -0.454341 -0.416114\n",
      "6        3.544068         -0.114272 -0.231024\n",
      "7        3.176091          0.032145  0.096271\n",
      "...           ...               ...       ...\n",
      "24980    3.322219         -0.123545 -0.119840\n",
      "24985    3.397940         -0.107879 -0.140077\n",
      "24988    3.041393          0.162000  0.233043\n",
      "24991    3.146128          0.203469  0.058041\n",
      "24994    3.929419         -0.637870 -0.656963\n",
      "\n",
      "[7500 rows x 3 columns]\n"
     ]
    }
   ],
   "source": [
    "df['residual'] = y_test_p - df[\"shares_log\"] #use built-in predict() method to generate predictions; store in original datafdframe\n",
    "df= df.dropna()\n",
    "df_sub = df[[\"shares_log\",\"predicted_shares\", \"residual\"]]\n",
    "print(df_sub)"
   ]
  },
  {
   "cell_type": "markdown",
   "metadata": {},
   "source": [
    "I added a column with 'residual' to the data frame. When subtracting the actual shares from the predicted shares we can see how  far off the predicted shares were from the actual shares. This is demonstarted by the residual column. "
   ]
  },
  {
   "cell_type": "code",
   "execution_count": null,
   "metadata": {},
   "outputs": [],
   "source": []
  }
 ],
 "metadata": {
  "kernelspec": {
   "display_name": "Python 3",
   "language": "python",
   "name": "python3"
  },
  "language_info": {
   "codemirror_mode": {
    "name": "ipython",
    "version": 3
   },
   "file_extension": ".py",
   "mimetype": "text/x-python",
   "name": "python",
   "nbconvert_exporter": "python",
   "pygments_lexer": "ipython3",
   "version": "3.7.6"
  }
 },
 "nbformat": 4,
 "nbformat_minor": 4
}
